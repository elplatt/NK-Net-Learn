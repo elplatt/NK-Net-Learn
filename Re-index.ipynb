{
 "cells": [
  {
   "cell_type": "code",
   "execution_count": 1,
   "metadata": {
    "collapsed": false
   },
   "outputs": [
    {
     "name": "stdout",
     "output_type": "stream",
     "text": [
      "Populating the interactive namespace from numpy and matplotlib\n"
     ]
    }
   ],
   "source": [
    "%pylab inline\n",
    "import numpy as np\n",
    "import pandas as pd\n",
    "import elp_nkmodel as elpnk\n",
    "import net\n",
    "import simulator\n",
    "import strategy"
   ]
  },
  {
   "cell_type": "code",
   "execution_count": 2,
   "metadata": {
    "collapsed": true
   },
   "outputs": [],
   "source": [
    "dirs = [\n",
    "    \"archive/paper-2.0/nk_delete 1/2017-09-05 20:43:37 fc24cdf\",\n",
    "    \"archive/paper-2.0/nk_delete 2/2017-09-05 20:43:40 fc24cdf\",\n",
    "    \"archive/paper-2.0/nk_delete 3/2017-09-05 20:43:43 fc24cdf\",\n",
    "    \"archive/paper-2.0/nk_delete 4/2017-09-05 20:43:37 fc24cdf\",\n",
    "    \"archive/paper-2.0/nk_delete 5/2017-09-05 20:43:37 fc24cdf\",\n",
    "    \"archive/paper-2.0/nk_delete 6/2017-09-05 20:43:43 fc24cdf\"\n",
    "]"
   ]
  },
  {
   "cell_type": "code",
   "execution_count": 6,
   "metadata": {
    "collapsed": false
   },
   "outputs": [],
   "source": [
    "for n, d in enumerate(dirs):\n",
    "    df = pd.DataFrame.from_csv(\"%s/runs.csv\" % d)\n",
    "    df[\"timestamp\"] = df.index.map(lambda x: x.split(\"-\")[0])\n",
    "    df[\"trial\"] = df.index.map(lambda x: x.split(\"-\")[1])\n",
    "    df[\"jobid\"] = str(n + 1)\n",
    "    df[\"uid\"] = df[\"timestamp\"] + \"-\" + df[\"jobid\"] + \"-\" + df[\"trial\"].map(str)\n",
    "    df = df.set_index(\"uid\")\n",
    "    df.to_csv(\"%s/runs.csv\" % d)"
   ]
  },
  {
   "cell_type": "code",
   "execution_count": 12,
   "metadata": {
    "collapsed": false
   },
   "outputs": [],
   "source": [
    "for n, d in enumerate(dirs):\n",
    "    df = pd.DataFrame.from_csv(\"%s/values.csv\" % d)\n",
    "    df[\"timestamp\"] = df[\"trial\"].map(lambda x: x.split(\"-\")[0])\n",
    "    df[\"trial\"] = df[\"trial\"].map(lambda x: x.split(\"-\")[1])\n",
    "    df[\"jobid\"] = str(n + 1)\n",
    "    df[\"uid\"] = df[\"timestamp\"] + \"-\" + df[\"jobid\"] + \"-\" + df[\"trial\"] + \"-\" + df[\"step\"].map(str)\n",
    "    df = df.set_index(\"uid\")\n",
    "    df.to_csv(\"%s/values.csv\" % d)"
   ]
  },
  {
   "cell_type": "code",
   "execution_count": 13,
   "metadata": {
    "collapsed": false
   },
   "outputs": [
    {
     "data": {
      "text/html": [
       "<div>\n",
       "<table border=\"1\" class=\"dataframe\">\n",
       "  <thead>\n",
       "    <tr style=\"text-align: right;\">\n",
       "      <th></th>\n",
       "      <th>rewire</th>\n",
       "      <th>keep</th>\n",
       "      <th>strategy</th>\n",
       "      <th>trial</th>\n",
       "      <th>step</th>\n",
       "      <th>value</th>\n",
       "      <th>timestamp</th>\n",
       "      <th>jobid</th>\n",
       "    </tr>\n",
       "    <tr>\n",
       "      <th>uid</th>\n",
       "      <th></th>\n",
       "      <th></th>\n",
       "      <th></th>\n",
       "      <th></th>\n",
       "      <th></th>\n",
       "      <th></th>\n",
       "      <th></th>\n",
       "      <th></th>\n",
       "    </tr>\n",
       "  </thead>\n",
       "  <tbody>\n",
       "    <tr>\n",
       "      <th>1504658623-6-0-0</th>\n",
       "      <td>0.0</td>\n",
       "      <td>0.25</td>\n",
       "      <td>conform</td>\n",
       "      <td>0</td>\n",
       "      <td>0</td>\n",
       "      <td>0.499861</td>\n",
       "      <td>1504658623</td>\n",
       "      <td>6</td>\n",
       "    </tr>\n",
       "    <tr>\n",
       "      <th>1504658623-6-0-1</th>\n",
       "      <td>0.0</td>\n",
       "      <td>0.25</td>\n",
       "      <td>conform</td>\n",
       "      <td>0</td>\n",
       "      <td>1</td>\n",
       "      <td>0.517675</td>\n",
       "      <td>1504658623</td>\n",
       "      <td>6</td>\n",
       "    </tr>\n",
       "    <tr>\n",
       "      <th>1504658623-6-0-2</th>\n",
       "      <td>0.0</td>\n",
       "      <td>0.25</td>\n",
       "      <td>conform</td>\n",
       "      <td>0</td>\n",
       "      <td>2</td>\n",
       "      <td>0.533009</td>\n",
       "      <td>1504658623</td>\n",
       "      <td>6</td>\n",
       "    </tr>\n",
       "    <tr>\n",
       "      <th>1504658623-6-0-3</th>\n",
       "      <td>0.0</td>\n",
       "      <td>0.25</td>\n",
       "      <td>conform</td>\n",
       "      <td>0</td>\n",
       "      <td>3</td>\n",
       "      <td>0.546197</td>\n",
       "      <td>1504658623</td>\n",
       "      <td>6</td>\n",
       "    </tr>\n",
       "    <tr>\n",
       "      <th>1504658623-6-0-4</th>\n",
       "      <td>0.0</td>\n",
       "      <td>0.25</td>\n",
       "      <td>conform</td>\n",
       "      <td>0</td>\n",
       "      <td>4</td>\n",
       "      <td>0.558480</td>\n",
       "      <td>1504658623</td>\n",
       "      <td>6</td>\n",
       "    </tr>\n",
       "  </tbody>\n",
       "</table>\n",
       "</div>"
      ],
      "text/plain": [
       "                  rewire  keep strategy trial  step     value   timestamp  \\\n",
       "uid                                                                         \n",
       "1504658623-6-0-0     0.0  0.25  conform     0     0  0.499861  1504658623   \n",
       "1504658623-6-0-1     0.0  0.25  conform     0     1  0.517675  1504658623   \n",
       "1504658623-6-0-2     0.0  0.25  conform     0     2  0.533009  1504658623   \n",
       "1504658623-6-0-3     0.0  0.25  conform     0     3  0.546197  1504658623   \n",
       "1504658623-6-0-4     0.0  0.25  conform     0     4  0.558480  1504658623   \n",
       "\n",
       "                 jobid  \n",
       "uid                     \n",
       "1504658623-6-0-0     6  \n",
       "1504658623-6-0-1     6  \n",
       "1504658623-6-0-2     6  \n",
       "1504658623-6-0-3     6  \n",
       "1504658623-6-0-4     6  "
      ]
     },
     "execution_count": 13,
     "metadata": {},
     "output_type": "execute_result"
    }
   ],
   "source": [
    "df.head()"
   ]
  },
  {
   "cell_type": "code",
   "execution_count": null,
   "metadata": {
    "collapsed": true
   },
   "outputs": [],
   "source": []
  }
 ],
 "metadata": {
  "kernelspec": {
   "display_name": "Python 2",
   "language": "python",
   "name": "python2"
  },
  "language_info": {
   "codemirror_mode": {
    "name": "ipython",
    "version": 2
   },
   "file_extension": ".py",
   "mimetype": "text/x-python",
   "name": "python",
   "nbconvert_exporter": "python",
   "pygments_lexer": "ipython2",
   "version": "2.7.6"
  }
 },
 "nbformat": 4,
 "nbformat_minor": 2
}
