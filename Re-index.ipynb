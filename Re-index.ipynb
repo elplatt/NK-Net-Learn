{
 "cells": [
  {
   "cell_type": "code",
   "execution_count": null,
   "metadata": {
    "collapsed": false
   },
   "outputs": [],
   "source": [
    "%pylab inline\n",
    "import numpy as np\n",
    "import pandas as pd\n",
    "import elp_nkmodel as elpnk\n",
    "import net\n",
    "import simulator\n",
    "import strategy"
   ]
  },
  {
   "cell_type": "code",
   "execution_count": null,
   "metadata": {
    "collapsed": true
   },
   "outputs": [],
   "source": [
    "dirs = [\n",
    "    \"archive/paper-2.0/nk_delete_nosample 1/2017-09-05 20:50:39 fc24cdf\",\n",
    "    \"archive/paper-2.0/nk_delete_nosample 2/2017-09-05 20:50:39 fc24cdf\",\n",
    "    \"archive/paper-2.0/nk_delete_nosample 3/2017-09-05 20:50:40 fc24cdf\",\n",
    "    \"archive/paper-2.0/nk_delete_nosample 4/2017-09-05 20:50:39 fc24cdf\",\n",
    "    \"archive/paper-2.0/nk_delete_nosample 5/2017-09-05 20:50:40 fc24cdf\",\n",
    "    \"archive/paper-2.0/nk_delete_nosample 6/2017-09-05 20:50:39 fc24cdf\",\n",
    "    \"archive/paper-2.0/nk_delete_nosample 7/2017-09-05 20:50:41 fc24cdf\",\n",
    "    \"archive/paper-2.0/nk_delete_nosample 8/2017-09-05 20:50:42 fc24cdf\",\n",
    "    \"archive/paper-2.0/nk_delete_nosample 9/2017-09-05 20:50:44 fc24cdf\",\n",
    "    \"archive/paper-2.0/nk_delete_nosample 10/2017-09-05 20:50:45 fc24cdf\"\n",
    "]"
   ]
  },
  {
   "cell_type": "code",
   "execution_count": null,
   "metadata": {
    "collapsed": false
   },
   "outputs": [],
   "source": [
    "for n, d in enumerate(dirs):\n",
    "    df = pd.DataFrame.from_csv(\"%s/runs.csv\" % d)\n",
    "    df[\"timestamp\"] = df.index.map(lambda x: x.split(\"-\")[0])\n",
    "    df[\"trial\"] = df.index.map(lambda x: x.split(\"-\")[1])\n",
    "    df[\"jobid\"] = str(n + 1)\n",
    "    df[\"uid\"] = df[\"timestamp\"] + \"-\" + df[\"jobid\"] + \"-\" + df[\"trial\"].map(str)\n",
    "    df = df.set_index(\"uid\")\n",
    "    df.to_csv(\"%s/runs.csv\" % d)"
   ]
  },
  {
   "cell_type": "code",
   "execution_count": null,
   "metadata": {
    "collapsed": false
   },
   "outputs": [],
   "source": [
    "for n, d in enumerate(dirs):\n",
    "    df = pd.DataFrame.from_csv(\"%s/values.csv\" % d)\n",
    "    df[\"timestamp\"] = df[\"trial\"].map(lambda x: x.split(\"-\")[0])\n",
    "    df[\"trial\"] = df[\"trial\"].map(lambda x: x.split(\"-\")[1])\n",
    "    df[\"jobid\"] = str(n + 1)\n",
    "    df[\"uid\"] = df[\"timestamp\"] + \"-\" + df[\"jobid\"] + \"-\" + df[\"trial\"] + \"-\" + df[\"step\"].map(str)\n",
    "    df = df.set_index(\"uid\")\n",
    "    df.to_csv(\"%s/values.csv\" % d)"
   ]
  },
  {
   "cell_type": "code",
   "execution_count": null,
   "metadata": {
    "collapsed": false
   },
   "outputs": [],
   "source": [
    "keep = sorted(set(df[\"keep\"]))\n",
    "print [(k, len(df[df[\"keep\"] == k])) for k in keep]"
   ]
  },
  {
   "cell_type": "code",
   "execution_count": null,
   "metadata": {
    "collapsed": true
   },
   "outputs": [],
   "source": []
  }
 ],
 "metadata": {
  "kernelspec": {
   "display_name": "Python 2",
   "language": "python",
   "name": "python2"
  },
  "language_info": {
   "codemirror_mode": {
    "name": "ipython",
    "version": 2
   },
   "file_extension": ".py",
   "mimetype": "text/x-python",
   "name": "python",
   "nbconvert_exporter": "python",
   "pygments_lexer": "ipython2",
   "version": "2.7.6"
  }
 },
 "nbformat": 4,
 "nbformat_minor": 2
}
