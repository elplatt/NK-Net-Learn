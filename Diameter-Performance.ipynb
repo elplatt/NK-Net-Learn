{
 "cells": [
  {
   "cell_type": "code",
   "execution_count": 1,
   "metadata": {},
   "outputs": [
    {
     "name": "stdout",
     "output_type": "stream",
     "text": [
      "Populating the interactive namespace from numpy and matplotlib\n"
     ]
    }
   ],
   "source": [
    "%pylab inline\n",
    "import elp_networks.algorithms as elpalg\n",
    "import elp_nkmodel as elpnk\n",
    "import net\n",
    "import simulator\n",
    "import strategy"
   ]
  },
  {
   "cell_type": "code",
   "execution_count": 3,
   "metadata": {},
   "outputs": [
    {
     "name": "stdout",
     "output_type": "stream",
     "text": [
      "0.0\n",
      "  Simulating best-neighbor\n",
      "  Simulating conformity\n",
      "  Finding diameter\n",
      "0.1\n",
      "  Simulating best-neighbor\n",
      "  Simulating conformity\n",
      "  Finding diameter\n",
      "0.2\n",
      "  Simulating best-neighbor\n",
      "  Simulating conformity\n",
      "  Finding diameter\n",
      "0.3\n",
      "  Simulating best-neighbor\n",
      "  Simulating conformity\n",
      "  Finding diameter\n",
      "0.4\n",
      "  Simulating best-neighbor\n",
      "  Simulating conformity\n",
      "  Finding diameter\n",
      "0.5\n",
      "  Simulating best-neighbor\n",
      "  Simulating conformity\n",
      "  Finding diameter\n",
      "0.6\n",
      "  Simulating best-neighbor\n",
      "  Simulating conformity\n",
      "  Finding diameter\n",
      "0.7\n",
      "  Simulating best-neighbor\n",
      "  Simulating conformity\n",
      "  Finding diameter\n",
      "0.8\n",
      "  Simulating best-neighbor\n",
      "  Simulating conformity\n",
      "  Finding diameter\n",
      "0.9\n",
      "  Simulating best-neighbor\n",
      "  Simulating conformity\n",
      "  Finding diameter\n"
     ]
    }
   ],
   "source": [
    "conform_perf = []\n",
    "best_perf = []\n",
    "diameter = []\n",
    "degree = []\n",
    "m = elpnk.NK(100, 2)\n",
    "for rewire in range(10):\n",
    "    rewire = rewire / float(10)\n",
    "    print rewire\n",
    "    edges = net.nk_to_network(m, 1, rewire)\n",
    "    best_ind_strat = strategy.BestNeighborIndividual(m, edges)\n",
    "    conform_ind_strat = strategy.ConformityIndividual(m, edges)\n",
    "    print \"  Simulating best-neighbor\"\n",
    "    sim = simulator.Simulator(m, edges, best_ind_strat)\n",
    "    sim.run(50)\n",
    "    best_perf.append(sim.values[-1])\n",
    "    print \"  Simulating conformity\"\n",
    "    sim = simulator.Simulator(m, edges, conform_ind_strat)\n",
    "    sim.run(50)\n",
    "    conform_perf.append(sim.values[-1])\n",
    "    print \"  Finding diameter\"\n",
    "    next_diameter = 0\n",
    "    for n in edges.keys():\n",
    "        distances = elpalg.get_distances_bfs(edges, n)\n",
    "        d = max(distances.values())\n",
    "        if d > next_diameter:\n",
    "            next_diameter = d\n",
    "    diameter.append(next_diameter)\n",
    "    degree.append(sum([len(edges[n]) for n in edges.keys()]) / float(len(edges)))"
   ]
  },
  {
   "cell_type": "code",
   "execution_count": 8,
   "metadata": {},
   "outputs": [
    {
     "data": {
      "text/plain": [
       "[<matplotlib.lines.Line2D at 0x105bd8410>]"
      ]
     },
     "execution_count": 8,
     "metadata": {},
     "output_type": "execute_result"
    },
    {
     "data": {
      "image/png": "[encoded data removed]",
      "text/plain": [
       "<matplotlib.figure.Figure at 0x105ae2210>"
      ]
     },
     "metadata": {},
     "output_type": "display_data"
    }
   ],
   "source": [
    "plt.plot(diameter, conform_perf, '.')"
   ]
  },
  {
   "cell_type": "code",
   "execution_count": null,
   "metadata": {
    "collapsed": true
   },
   "outputs": [],
   "source": []
  }
 ],
 "metadata": {
  "kernelspec": {
   "display_name": "Python 2",
   "language": "python",
   "name": "python2"
  },
  "language_info": {
   "codemirror_mode": {
    "name": "ipython",
    "version": 2
   },
   "file_extension": ".py",
   "mimetype": "text/x-python",
   "name": "python",
   "nbconvert_exporter": "python",
   "pygments_lexer": "ipython2",
   "version": "2.7.10"
  }
 },
 "nbformat": 4,
 "nbformat_minor": 2
}
