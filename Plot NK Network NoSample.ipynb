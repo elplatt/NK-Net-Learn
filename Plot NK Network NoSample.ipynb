{
 "cells": [
  {
   "cell_type": "code",
   "execution_count": null,
   "metadata": {
    "collapsed": false
   },
   "outputs": [],
   "source": [
    "%pylab inline\n",
    "import numpy as np\n",
    "import scipy.stats as spstats\n",
    "import pandas as pd"
   ]
  },
  {
   "cell_type": "code",
   "execution_count": null,
   "metadata": {
    "collapsed": true
   },
   "outputs": [],
   "source": [
    "df_runs = pd.DataFrame.from_csv(\"output/2017-07-24-sample_0.csv\")\n",
    "df_values = pd.DataFrame.from_csv(\"output/2017-07-24-sample_0-values.csv\")\n",
    "rs = sorted(set(df_runs[\"rewire\"]))\n",
    "strategies = sorted(set(df_values[\"strategy\"]))\n",
    "trials = sorted(set(df_values[\"trial\"]))\n",
    "steps = sorted(set(df_values[\"step\"]))"
   ]
  },
  {
   "cell_type": "code",
   "execution_count": null,
   "metadata": {
    "collapsed": false
   },
   "outputs": [],
   "source": [
    "plt.figure(figsize=(16,4*len(rs)))\n",
    "for i, r in enumerate(rs):\n",
    "    df_rewire = df_values[df_values[\"rewire\"] == r]\n",
    "    for j, strategy in enumerate(strategies):\n",
    "        df_strategy = df_rewire[df_rewire[\"strategy\"] == strategy]\n",
    "        plt.subplot(len(rs),len(strategies),1+j+i*len(strategies))\n",
    "        plt.title(\"Strategy: %s\" % strategy)\n",
    "        plt.ylabel(\"Rewire = %0.2f\" % r)\n",
    "        for trial_n in trials:\n",
    "            df_trial = df_strategy[df_strategy[\"trial\"] == trial_n]\n",
    "            plot(df_trial[\"step\"], df_trial[\"value\"])\n",
    "            plt.ylim([0.5, 0.8])\n",
    "plt.tight_layout()"
   ]
  },
  {
   "cell_type": "code",
   "execution_count": null,
   "metadata": {
    "collapsed": false
   },
   "outputs": [],
   "source": [
    "df_grouped = df_values.groupby([\"strategy\", \"rewire\", \"step\"])\n",
    "plt.figure(figsize=(16,4*len(rs)))\n",
    "for i, r in enumerate(rs):\n",
    "    df_rewire = df_values[df_values[\"rewire\"] == r]\n",
    "    for j, strategy in enumerate(strategies):\n",
    "        df_strategy = df_rewire[df_rewire[\"strategy\"] == strategy]\n",
    "        plt.subplot(len(rs),len(strategies),1+j+i*len(strategies))\n",
    "        plt.title(\"Strategy: %s\" % strategy)\n",
    "        plt.ylabel(\"Rewire = %0.2f\" % r)\n",
    "        step_mean = []\n",
    "        step_se = []\n",
    "        for step in sorted(set(df_strategy[\"step\"])):\n",
    "            df = df_strategy[df_strategy[\"step\"] == step]\n",
    "            step_mean.append(df[\"value\"].mean())\n",
    "            s = df[\"value\"].std(ddof=1)\n",
    "            step_se.append(s / sqrt(len(df[\"value\"])))\n",
    "        mean = np.array(step_mean)\n",
    "        se = np.array(step_se)\n",
    "        plt.fill_between(range(len(step_mean)), mean - se, mean + se, facecolor=\"#dfdfff\")\n",
    "        plt.plot(step_mean)\n",
    "        plt.grid()\n",
    "        plt.ylim([0.5, 0.8])\n",
    "plt.tight_layout()"
   ]
  },
  {
   "cell_type": "code",
   "execution_count": null,
   "metadata": {
    "collapsed": false
   },
   "outputs": [],
   "source": [
    "for i, r in enumerate(rs):\n",
    "    df_rewire = df_values[df_values[\"rewire\"] == r]\n",
    "    print \"Rewire: %f\" % r\n",
    "    for j, strategy in enumerate(strategies):\n",
    "        df_strategy = df_rewire[df_rewire[\"strategy\"] == strategy]\n",
    "        df = df_strategy[df_strategy[\"step\"] == steps[-1]]\n",
    "        m = df[\"value\"].mean()\n",
    "        sd = df[\"value\"].std()\n",
    "        se = sd / sqrt(len(df[\"value\"]))\n",
    "        print \"\\t%s:\\t%f\\t%f\" % (strategy, m, se)"
   ]
  },
  {
   "cell_type": "code",
   "execution_count": null,
   "metadata": {
    "collapsed": false
   },
   "outputs": [],
   "source": [
    "for i, r in enumerate(rs):\n",
    "    df = df_runs[df_runs[\"rewire\"] == r]\n",
    "    print \"Rewire: %f\" % r\n",
    "    m = df[\"degree\"].mean()\n",
    "    sd = df[\"degree\"].std()\n",
    "    se = sd / sqrt(len(df[\"degree\"]))\n",
    "    print \"\\tDegree:\\t%f\\t%f\" % (m, se)"
   ]
  },
  {
   "cell_type": "code",
   "execution_count": null,
   "metadata": {
    "collapsed": true
   },
   "outputs": [],
   "source": [
    "def values_to_efficiency(values):\n",
    "    start = values[0]\n",
    "    halfmax = (max(values) - start) / 2.0 + start\n",
    "    return 1.0 / float(len([v for v in values if v <= halfmax]))"
   ]
  },
  {
   "cell_type": "code",
   "execution_count": null,
   "metadata": {
    "collapsed": false
   },
   "outputs": [],
   "source": [
    "for i, r in enumerate(rs):\n",
    "    df_rewire = df_values[df_values[\"rewire\"] == r]\n",
    "    print \"Rewire: %f\" % r\n",
    "    for j, strategy in enumerate(strategies):\n",
    "        df_strategy = df_rewire[df_rewire[\"strategy\"] == strategy]\n",
    "        strategy_trials = sorted(set(df_strategy[\"trial\"]))\n",
    "        efficiencies = np.zeros(len(strategy_trials))\n",
    "        for i, trial in enumerate(strategy_trials):\n",
    "            df = df_strategy[df_strategy[\"trial\"] == trial]\n",
    "            efficiencies[i] = values_to_efficiency(list(df[\"value\"]))\n",
    "        m = efficiencies.mean()\n",
    "        sd = efficiencies.std()\n",
    "        se = sd / sqrt(len(efficiencies))\n",
    "        print \"\\t%s:\\t%f\\t%f\" % (strategy, m, se)"
   ]
  },
  {
   "cell_type": "code",
   "execution_count": null,
   "metadata": {
    "collapsed": false
   },
   "outputs": [],
   "source": [
    "len(sorted(set(df_runs[\"rewire\"])))"
   ]
  },
  {
   "cell_type": "code",
   "execution_count": null,
   "metadata": {
    "collapsed": true
   },
   "outputs": [],
   "source": []
  }
 ],
 "metadata": {
  "kernelspec": {
   "display_name": "Python 2",
   "language": "python",
   "name": "python2"
  },
  "language_info": {
   "codemirror_mode": {
    "name": "ipython",
    "version": 2
   },
   "file_extension": ".py",
   "mimetype": "text/x-python",
   "name": "python",
   "nbconvert_exporter": "python",
   "pygments_lexer": "ipython2",
   "version": "2.7.6"
  }
 },
 "nbformat": 4,
 "nbformat_minor": 2
}
