{
 "cells": [
  {
   "cell_type": "code",
   "execution_count": null,
   "metadata": {
    "collapsed": false
   },
   "outputs": [],
   "source": [
    "%pylab inline\n",
    "import numpy as np\n",
    "import scipy.stats as spstats\n",
    "import pandas as pd"
   ]
  },
  {
   "cell_type": "code",
   "execution_count": null,
   "metadata": {
    "collapsed": true
   },
   "outputs": [],
   "source": [
    "out_dirs = [\n",
    "    \"archive/paper-2.0/nk_rewire/2017-09-21 09:38:29 5dbaa49 1\",\n",
    "    \"archive/paper-2.0/nk_rewire/2017-09-21 09:46:02 5dbaa49 2\",\n",
    "    \"archive/paper-2.0/nk_rewire/2017-09-21 10:03:30 5dbaa49 3\",\n",
    "    \"archive/paper-2.0/nk_rewire/2017-09-21 10:30:07 5dbaa49 4\"\n",
    "]"
   ]
  },
  {
   "cell_type": "code",
   "execution_count": null,
   "metadata": {
    "collapsed": false
   },
   "outputs": [],
   "source": [
    "df_runs = pd.concat([pd.DataFrame.from_csv(\"%s/runs.csv\" % d) for d in out_dirs])\n",
    "df_values = pd.concat([pd.DataFrame.from_csv(\"%s/values.csv\" % d) for d in out_dirs])\n",
    "rs = sorted(set((df_values[\"rewire\"] * 6).round() / 6.0))\n",
    "strategies = [\"best\", \"loc_best\", \"conform\", \"loc_conform\", \"loc_cons\"]\n",
    "trials = sorted(set(df_values[\"trial\"]))\n",
    "steps = sorted(set(df_values[\"step\"]))"
   ]
  },
  {
   "cell_type": "code",
   "execution_count": null,
   "metadata": {
    "collapsed": false
   },
   "outputs": [],
   "source": [
    "plt.figure(figsize=(1*15.0/6.0,1*15.0/6.0))\n",
    "for i, r in enumerate(rs):\n",
    "    df_rewire = df_values[df_values[\"rewire\"] == r]\n",
    "    for j, strategy in enumerate([\"loc_best\"]): #enumerate(strategies):\n",
    "        df_strategy = df_rewire[df_rewire[\"strategy\"] == strategy]\n",
    "        #plt.subplot(len(rs),len(strategies),1+j+i*len(strategies))\n",
    "        plt.title(strategy)\n",
    "        plt.ylabel(\"Rewire = %0.2f\" % r)\n",
    "        for trial_n in sorted(set(df_strategy[\"trial\"]))[:3]:\n",
    "            df_trial = df_strategy[df_strategy[\"trial\"] == trial_n]\n",
    "            plot(df_trial[\"step\"], df_trial[\"value\"])\n",
    "            xlabel(\"Iteration\")\n",
    "            ylabel(\"Value\")\n",
    "plt.tight_layout()\n",
    "plt.savefig(\"fig-trials.png\", format=\"png\", dpi=300)"
   ]
  },
  {
   "cell_type": "code",
   "execution_count": null,
   "metadata": {
    "collapsed": true
   },
   "outputs": [],
   "source": [
    "def values_to_efficiency(values):\n",
    "    max_delta = [max(values) - values[i] for i in range(len(values))]\n",
    "    nonpositive = [i for i, d in enumerate(max_delta) if d <= 0.0001]\n",
    "    return 1.0 / float(nonpositive[0])\n",
    "\n",
    "def values_to_converge(values):\n",
    "    max_delta = [max(values) - values[i] for i in range(len(values))]\n",
    "    nonpositive = [i for i, d in enumerate(max_delta) if d <= 0.0001]\n",
    "    return nonpositive[0]    "
   ]
  },
  {
   "cell_type": "code",
   "execution_count": null,
   "metadata": {
    "collapsed": true
   },
   "outputs": [],
   "source": [
    "d_trial = []\n",
    "d_strat = []\n",
    "d_eff = []\n",
    "d_perf = []\n",
    "d_rewire = []\n",
    "d_degree = []\n",
    "d_converge = []\n",
    "for i, trial in enumerate(sorted(set(df_values[\"trial\"]))):\n",
    "    for j, strategy in enumerate(strategies):\n",
    "        df_strat = df_values[df_values[\"strategy\"] == strategy]\n",
    "        df = df_strat[df_strat[\"trial\"] == trial]\n",
    "        eff = values_to_efficiency(list(df[\"value\"]))\n",
    "        d_converge.append(values_to_converge(list(df[\"value\"])))\n",
    "        d_trial.append(trial)\n",
    "        d_strat.append(strategy)\n",
    "        d_eff.append(eff)\n",
    "        d_rewire.append(df_runs[\"rewire\"][trial])\n",
    "        d_degree.append(df_runs[\"degree\"][trial])\n",
    "        d_perf.append(df_runs[\"%s_perf\" % strategy][trial])\n",
    "df_eff = pd.DataFrame({\n",
    "    \"trial\": d_trial,\n",
    "    \"rewire\": d_rewire,\n",
    "    \"degree\": d_degree,\n",
    "    \"strategy\": d_strat,\n",
    "    \"eff\": d_eff,\n",
    "    \"perf\": d_perf,\n",
    "    \"converge\": d_converge\n",
    "})"
   ]
  },
  {
   "cell_type": "code",
   "execution_count": null,
   "metadata": {
    "collapsed": false
   },
   "outputs": [],
   "source": [
    "plt.figure(figsize=(3*15.0/6.0,2*15.0/6.0))\n",
    "for i, strategy in enumerate(strategies):\n",
    "    plt.subplot(2,3, i+1)\n",
    "    plt.title(strategy)\n",
    "    df = df_eff[df_eff[\"strategy\"] == strategy]\n",
    "    plot(df[\"converge\"], df[\"perf\"], '.')\n",
    "    xlabel('Converge Time')\n",
    "    ylabel('Value')\n",
    "    xlim([0, 300])\n",
    "    ylim([0.7, 0.8])\n",
    "plt.tight_layout()\n",
    "plt.savefig(\"fig-converge-value.png\", format=\"png\", dpi=300)"
   ]
  },
  {
   "cell_type": "code",
   "execution_count": null,
   "metadata": {
    "collapsed": false,
    "scrolled": true
   },
   "outputs": [],
   "source": [
    "plt.figure(figsize=(4*4,4*2))\n",
    "for j, strategy in enumerate(strategies):\n",
    "    df_strategy = df_values[df_values[\"strategy\"] == strategy]\n",
    "    plt.subplot(2,4,1+j)\n",
    "    plt.title(\"Strategy: %s\" % strategy)\n",
    "    for i, r in enumerate(rs):\n",
    "        df_rewire = df_strategy[(df_strategy[\"rewire\"] - r).abs() < 0.01]\n",
    "        label = \"Rewire = %0.2f\" % r\n",
    "        step_mean = []\n",
    "        step_se = []\n",
    "        for step in sorted(set(df_rewire[\"step\"])):\n",
    "            df = df_rewire[df_rewire[\"step\"] == step]\n",
    "            step_mean.append(df[\"value\"].mean())\n",
    "            s = df[\"value\"].std(ddof=1)\n",
    "            step_se.append(s / sqrt(len(df[\"value\"])))\n",
    "        mean = np.array(step_mean)\n",
    "        se = np.array(step_se)\n",
    "        plt.fill_between(range(len(step_mean)), mean - se, mean + se, facecolor=\"#dfdfff\")\n",
    "        plt.plot(step_mean, label=label)\n",
    "    plt.legend()\n",
    "    plt.grid()\n",
    "    plt.ylim([0.5, 0.8])\n",
    "    plt.ylim([0.72, 0.76])\n",
    "plt.tight_layout()"
   ]
  },
  {
   "cell_type": "code",
   "execution_count": null,
   "metadata": {
    "collapsed": false
   },
   "outputs": [],
   "source": [
    "df = df_rewire[df_rewire[\"strategy\"] == \"loc_conform\"]"
   ]
  },
  {
   "cell_type": "code",
   "execution_count": null,
   "metadata": {
    "collapsed": false
   },
   "outputs": [],
   "source": [
    "df.head()"
   ]
  },
  {
   "cell_type": "code",
   "execution_count": null,
   "metadata": {
    "collapsed": false,
    "scrolled": false
   },
   "outputs": [],
   "source": [
    "fs = 12\n",
    "tfs = 10\n",
    "strat_data = {\n",
    "    \"best\": {\n",
    "        \"color\": \"#aaaa00\",\n",
    "        \"fmt\": \":\",\n",
    "        \"label\": \"Best+I\"\n",
    "    },\n",
    "    \"conform\": {\n",
    "        \"color\": \"#aaaa00\",\n",
    "        \"fmt\": \"--\",\n",
    "        \"label\": \"Conf+I\"\n",
    "    },\n",
    "    \"loc_best\": {\n",
    "        \"color\": \"#000066\",\n",
    "        \"fmt\": \":\",\n",
    "        \"label\": \"Best+LI\"\n",
    "    },\n",
    "    \"loc_conform\": {\n",
    "        \"color\": \"#000066\",\n",
    "        \"fmt\": \"--\",\n",
    "        \"label\": \"Conf+LI\"\n",
    "    },\n",
    "    \"loc_cons\": {\n",
    "        \"color\": \"#000000\",\n",
    "        \"fmt\": \"-\",\n",
    "        \"label\": \"LMaj+I\"\n",
    "    },\n",
    "}\n",
    "plt.figure(figsize=(15/3.0,7.5/3.0))\n",
    "for i, r in enumerate([0, 1]):\n",
    "    df_rewire = df_values[(df_values[\"rewire\"] - r).abs() < 0.01]\n",
    "    plt.subplot(1,2,1+i)\n",
    "    plt.title(\"P[rewire] = %0.2f\" % r, fontsize=fs)\n",
    "    for j, strategy in enumerate(strategies):\n",
    "        df_strategy = df_rewire[df_rewire[\"strategy\"] == strategy]\n",
    "        label = strategy\n",
    "        step_mean = []\n",
    "        step_se = []\n",
    "        for step in sorted(set(df_strategy[\"step\"])):\n",
    "            df = df_strategy[df_strategy[\"step\"] == step]\n",
    "            step_mean.append(df[\"value\"].mean())\n",
    "            s = df[\"value\"].std(ddof=1)\n",
    "            step_se.append(s / sqrt(len(df[\"value\"])))\n",
    "        mean = np.array(step_mean)\n",
    "        se = np.array(step_se)\n",
    "        #plt.fill_between(range(len(step_mean)), mean - se, mean + se, facecolor=\"#dfdfff\")\n",
    "    for j, strategy in enumerate(strategies):\n",
    "        df_strategy = df_rewire[df_rewire[\"strategy\"] == strategy]\n",
    "        label = strategy\n",
    "        step_mean = []\n",
    "        step_se = []\n",
    "        for step in sorted(set(df_strategy[\"step\"])):\n",
    "            df = df_strategy[df_strategy[\"step\"] == step]\n",
    "            step_mean.append(df[\"value\"].mean())\n",
    "            s = df[\"value\"].std(ddof=1)\n",
    "            step_se.append(s / sqrt(len(df[\"value\"])))\n",
    "        mean = np.array(step_mean)\n",
    "        se = np.array(step_se)\n",
    "        plt.plot(\n",
    "            step_mean,\n",
    "            linestyle=strat_data[strategy][\"fmt\"],\n",
    "            color=strat_data[strategy][\"color\"],\n",
    "            label=strat_data[strategy][\"label\"],\n",
    "            linewidth=1)\n",
    "    xlabel(\"Iteration\", fontsize=fs)\n",
    "    ylabel(\"Value\", fontsize=fs)\n",
    "    plt.grid()\n",
    "    plt.legend(fontsize=tfs)\n",
    "    plt.ylim([0.5, 0.75])\n",
    "    plt.tick_params(axis='both', which='major', labelsize=tfs)\n",
    "plt.tight_layout()\n",
    "plt.savefig(\"fig-val-iter.pdf\", format=\"pdf\")\n",
    "plt.savefig(\"fig-val-iter.png\", format=\"png\", dpi=300)"
   ]
  },
  {
   "cell_type": "code",
   "execution_count": null,
   "metadata": {
    "collapsed": false
   },
   "outputs": [],
   "source": [
    "strategies = sorted(set(df_eff[\"strategy\"]))\n",
    "rw = sorted(set(df_eff[\"rewire\"]))\n",
    "\n",
    "for s in strategies:\n",
    "    for r in [0]:\n",
    "        d = df_eff[(df_eff[\"strategy\"] == s) & (df_eff[\"rewire\"] == r)]\n",
    "        print(s)\n",
    "        print(\"  \", d[\"eff\"].mean(), d[\"eff\"].std(ddof=1) / math.sqrt(len(d)))\n",
    "        print(\"  \", d[\"perf\"].mean(), d[\"perf\"].std(ddof=1) / math.sqrt(len(d)))"
   ]
  },
  {
   "cell_type": "code",
   "execution_count": null,
   "metadata": {
    "collapsed": true
   },
   "outputs": [],
   "source": [
    "def estimate_curve(data_x, data_y, points, window):\n",
    "    h = max(data_x)\n",
    "    l = min(data_x)\n",
    "    step = (h-l)/float(points - 1)\n",
    "    curve_x = np.arange(points) * step + l\n",
    "    curve_y = np.ones(points)\n",
    "    for j, x in enumerate(curve_x):\n",
    "        total = 0.0\n",
    "        norm = 0.0\n",
    "        for i, dx in enumerate(data_x):\n",
    "            dy = data_y[i]\n",
    "            total += dy * np.exp(-1 * np.power(x - dx, 2) / (2.0*window))\n",
    "            norm += np.exp(-1 * np.power(x - dx, 2) / (2.0*window))\n",
    "        curve_y[j] = total / norm\n",
    "    return curve_x, curve_y\n",
    "\n",
    "def line_points(m, b, x):\n",
    "    x0 = min(x)\n",
    "    x1 = max(x)\n",
    "    y0 = m*x0 + b\n",
    "    y1 = m*x1 + b\n",
    "    return [x0,x1], [y0,y1]"
   ]
  },
  {
   "cell_type": "code",
   "execution_count": null,
   "metadata": {
    "collapsed": false,
    "scrolled": true
   },
   "outputs": [],
   "source": [
    "fs = 14\n",
    "tfs = 10\n",
    "param = \"degree\"\n",
    "plt.figure(figsize=(75/6.0,15/6.0))\n",
    "for j, strategy in enumerate(strategies):\n",
    "    plt.subplot(1,5,1+j)\n",
    "    r,p = spstats.pearsonr(df_runs[param], df_runs[\"%s_perf\" % strategy])\n",
    "    plt.plot(df_runs[param], df_runs[\"%s_perf\" % strategy], '.', markersize=2)\n",
    "    m, b = np.polyfit(df_runs[param], df_runs[\"%s_perf\" % strategy], 1)\n",
    "    #x, y = estimate_curve(df_runs[\"degree\"], df_runs[\"%s_perf\" % strategy], 100, 5)\n",
    "    x, y = line_points(m,b,df_runs[param])\n",
    "    plt.plot(x, y, '-')\n",
    "    plt.title(strat_data[strategy][\"label\"], fontsize=fs)\n",
    "    print \"%s r=%0.2f p=%0.4f m=%f, b=%f\" % (strategy, r, p, m, b)\n",
    "    xlabel(\"Degree\", fontsize=fs)\n",
    "    ylabel(\"Performance\", fontsize=fs)\n",
    "    plt.grid()\n",
    "    if strategy == \"loc_conform\":\n",
    "        plt.ylim([0.55, 0.62])\n",
    "    else:\n",
    "        plt.ylim([0.68, 0.77])\n",
    "    plt.tick_params(axis='both', which='major', labelsize=tfs)\n",
    "plt.tight_layout()\n",
    "plt.savefig(\"fig-deg-perf.pdf\", format=\"pdf\")\n",
    "plt.savefig(\"fig-deg-perf.png\", format=\"png\", dpi=300)"
   ]
  },
  {
   "cell_type": "code",
   "execution_count": null,
   "metadata": {
    "collapsed": false
   },
   "outputs": [],
   "source": [
    "plt.figure(figsize=(5.0*15.0/6.0,15.0/6.0))\n",
    "for j, strategy in enumerate(strategies):\n",
    "    plt.subplot(1,5,1+j)\n",
    "    r,p = spstats.pearsonr(df_runs[\"rewire\"], df_runs[\"%s_perf\" % strategy])\n",
    "    mean = []\n",
    "    serr = []\n",
    "    std = []\n",
    "    for rw in rs:\n",
    "        df = df_runs[(df_runs[\"rewire\"] - rw).abs() < 0.01]\n",
    "        m = df[\"%s_perf\" % strategy].mean()\n",
    "        s = df[\"%s_perf\" % strategy].std(ddof=1)\n",
    "        se = s / sqrt(float(len(df[\"%s_perf\" % strategy])))\n",
    "        mean.append(m)\n",
    "        serr.append(se)\n",
    "        std.append(s)\n",
    "    plt.errorbar(rs, mean, yerr=se)\n",
    "    plt.title(strategy)\n",
    "    print \"%s r=%0.2f p=%0.4f\" % (strategy, r, p)\n",
    "    xlabel(\"P[rewire]\")\n",
    "    ylabel(\"Performance\")\n",
    "    plt.legend()\n",
    "    plt.grid()\n",
    "    plt.ylim([0.72, 0.76])\n",
    "plt.tight_layout()"
   ]
  },
  {
   "cell_type": "code",
   "execution_count": null,
   "metadata": {
    "collapsed": false
   },
   "outputs": [],
   "source": [
    "fs = 14\n",
    "tfs = 10\n",
    "param = \"degree\"\n",
    "plt.figure(figsize=(75/6.0,15/6.0))\n",
    "for j, strategy in enumerate(strategies):\n",
    "    plt.subplot(1,5,1+j)\n",
    "    df = df_eff[df_eff[\"strategy\"] == strategy]\n",
    "    r,p = spstats.pearsonr(df[param], df[\"eff\"])\n",
    "    m, b = np.polyfit(df[param], df[\"eff\"], 1)\n",
    "    #x, y = estimate_curve(df_strat[\"degree\"], df_strat[\"eff\"], 100, 5)\n",
    "    x, y = line_points(m,b,df[param])\n",
    "    plt.plot(df[param], df[\"eff\"], '.', markersize=2)\n",
    "    plt.plot(x, y)\n",
    "    plt.title(strat_data[strategy][\"label\"], fontsize=fs)\n",
    "    print \"%s r=%0.2f p=%0.4f m=%f, b=%f\" % (strategy, r, p, m, b)\n",
    "    xlabel(\"Degree\", fontsize=fs)\n",
    "    ylabel(\"Efficiency\", fontsize=fs)\n",
    "    plt.grid()\n",
    "    if strategy == \"loc_conform\":\n",
    "        pass#plt.ylim([0.55, 0.62])\n",
    "    else:\n",
    "        pass#plt.ylim([0.68, 0.77])\n",
    "    plt.tick_params(axis='both', which='major', labelsize=tfs)\n",
    "plt.tight_layout()\n",
    "plt.savefig(\"fig-deg-eff.pdf\", format=\"pdf\")\n",
    "plt.savefig(\"fig-deg-eff.png\", format=\"png\", dpi=300)\n"
   ]
  },
  {
   "cell_type": "code",
   "execution_count": null,
   "metadata": {
    "collapsed": false
   },
   "outputs": [],
   "source": [
    "plt.figure(figsize=(5.0*15.0/6.0,15.0/6.0))\n",
    "for j, strategy in enumerate(strategies):\n",
    "    plt.subplot(1,5,1+j)\n",
    "    df_strat = df_eff[df_eff[\"strategy\"] == strategy]\n",
    "    r,p = spstats.pearsonr(df_strat[\"rewire\"], df_strat[\"eff\"])\n",
    "    mean = []\n",
    "    serr = []\n",
    "    std = []\n",
    "    for rw in rs:\n",
    "        df = df_strat[(df_strat[\"rewire\"] - rw).abs() < 0.01]\n",
    "        m = df[\"eff\"].mean()\n",
    "        s = df[\"eff\"].std(ddof=1)\n",
    "        se = s / sqrt(float(len(df[\"eff\"])))\n",
    "        mean.append(m)\n",
    "        serr.append(se)\n",
    "        std.append(s)\n",
    "    m, b = np.polyfit(df_strat[\"degree\"], df_strat[\"eff\"], 1)\n",
    "    #x, y = estimate_curve(df_strat[\"degree\"], df_strat[\"eff\"], 100, 5)\n",
    "    x, y = line_points(m,b,df_strat[\"degree\"])\n",
    "    plt.errorbar(sorted(set(df_strat[\"rewire\"])), mean, yerr=se)\n",
    "    plt.title(\"%s r=%0.2f p=%0.4f\" % (strategy, r, p))\n",
    "    plt.legend()\n",
    "    plt.grid()\n",
    "    plt.ylim([0.005, 0.031])\n",
    "plt.tight_layout()\n"
   ]
  },
  {
   "cell_type": "code",
   "execution_count": null,
   "metadata": {
    "collapsed": false
   },
   "outputs": [],
   "source": [
    "plt.plot(df_runs[\"degree\"], df_runs[\"meanpath\"], '.')"
   ]
  },
  {
   "cell_type": "code",
   "execution_count": null,
   "metadata": {
    "collapsed": false
   },
   "outputs": [],
   "source": [
    "m = df_runs[\"degree\"].mean()\n",
    "s = df_runs[\"degree\"].std()\n",
    "m, s"
   ]
  },
  {
   "cell_type": "code",
   "execution_count": null,
   "metadata": {
    "collapsed": false
   },
   "outputs": [],
   "source": [
    "m = df_runs[\"meanpath\"].mean()\n",
    "s = df_runs[\"meanpath\"].std()\n",
    "m, s"
   ]
  },
  {
   "cell_type": "code",
   "execution_count": null,
   "metadata": {
    "collapsed": false
   },
   "outputs": [],
   "source": [
    "plt.hist(df_runs[\"degree\"])"
   ]
  },
  {
   "cell_type": "code",
   "execution_count": null,
   "metadata": {
    "collapsed": true
   },
   "outputs": [],
   "source": []
  }
 ],
 "metadata": {
  "kernelspec": {
   "display_name": "Python 2",
   "language": "python",
   "name": "python2"
  },
  "language_info": {
   "codemirror_mode": {
    "name": "ipython",
    "version": 2
   },
   "file_extension": ".py",
   "mimetype": "text/x-python",
   "name": "python",
   "nbconvert_exporter": "python",
   "pygments_lexer": "ipython2",
   "version": "2.7.6"
  }
 },
 "nbformat": 4,
 "nbformat_minor": 2
}
