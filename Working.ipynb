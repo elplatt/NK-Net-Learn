{
 "cells": [
  {
   "cell_type": "code",
   "execution_count": 1,
   "metadata": {},
   "outputs": [
    {
     "name": "stdout",
     "output_type": "stream",
     "text": [
      "Populating the interactive namespace from numpy and matplotlib\n"
     ]
    }
   ],
   "source": [
    "%pylab inline\n",
    "import elp_nkmodel as elpnk\n",
    "import net\n",
    "import simulator\n",
    "import strategy"
   ]
  },
  {
   "cell_type": "code",
   "execution_count": 2,
   "metadata": {
    "collapsed": true
   },
   "outputs": [],
   "source": [
    "m = elpnk.NK(100, 2)\n",
    "edges = net.nk_to_network(m, 1)"
   ]
  },
  {
   "cell_type": "code",
   "execution_count": 3,
   "metadata": {},
   "outputs": [],
   "source": [
    "best_strat = strategy.BestNeighbor(m, edges)\n",
    "ind_strat = strategy.Individual(m, edges)\n",
    "best_ind_strat = strategy.BestNeighborIndividual(m, edges)\n",
    "conform_strat = strategy.Conformity(m, edges)\n",
    "conform_ind_strat = strategy.ConformityIndividual(m, edges)"
   ]
  },
  {
   "cell_type": "code",
   "execution_count": 4,
   "metadata": {},
   "outputs": [],
   "source": [
    "sim = simulator.Simulator(m, edges, best_strat)\n",
    "sim.run(100)\n",
    "v_best = sim.values"
   ]
  },
  {
   "cell_type": "code",
   "execution_count": 5,
   "metadata": {},
   "outputs": [],
   "source": [
    "sim = simulator.Simulator(m, edges, ind_strat)\n",
    "sim.run(100)\n",
    "v_ind = sim.values"
   ]
  },
  {
   "cell_type": "code",
   "execution_count": 6,
   "metadata": {},
   "outputs": [],
   "source": [
    "sim = simulator.Simulator(m, edges, best_ind_strat)\n",
    "sim.run(100)\n",
    "v_best_ind = sim.values"
   ]
  },
  {
   "cell_type": "code",
   "execution_count": 7,
   "metadata": {},
   "outputs": [],
   "source": [
    "sim = simulator.Simulator(m, edges, conform_strat)\n",
    "sim.run(100)\n",
    "v_conform = sim.values"
   ]
  },
  {
   "cell_type": "code",
   "execution_count": 8,
   "metadata": {},
   "outputs": [],
   "source": [
    "sim = simulator.Simulator(m, edges, conform_ind_strat)\n",
    "sim.run(100)\n",
    "v_conform_ind = sim.values"
   ]
  },
  {
   "cell_type": "code",
   "execution_count": 9,
   "metadata": {},
   "outputs": [
    {
     "data": {
      "text/plain": [
       "[<matplotlib.lines.Line2D at 0x106446950>]"
      ]
     },
     "execution_count": 9,
     "metadata": {},
     "output_type": "execute_result"
    },
    {
     "data": {
      "image/png": "[encoded data removed]",
      "text/plain": [
       "<matplotlib.figure.Figure at 0x10634a2d0>"
      ]
     },
     "metadata": {},
     "output_type": "display_data"
    }
   ],
   "source": [
    "plt.plot(v_best)\n",
    "plt.plot(v_ind)\n",
    "plt.plot(v_best_ind)\n",
    "plt.plot(v_conform)\n",
    "plt.plot(v_conform_ind)"
   ]
  },
  {
   "cell_type": "code",
   "execution_count": null,
   "metadata": {
    "collapsed": true
   },
   "outputs": [],
   "source": []
  }
 ],
 "metadata": {
  "kernelspec": {
   "display_name": "Python 2",
   "language": "python",
   "name": "python2"
  },
  "language_info": {
   "codemirror_mode": {
    "name": "ipython",
    "version": 2
   },
   "file_extension": ".py",
   "mimetype": "text/x-python",
   "name": "python",
   "nbconvert_exporter": "python",
   "pygments_lexer": "ipython2",
   "version": "2.7.10"
  }
 },
 "nbformat": 4,
 "nbformat_minor": 2
}
