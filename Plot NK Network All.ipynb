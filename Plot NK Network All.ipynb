{
 "cells": [
  {
   "cell_type": "code",
   "execution_count": null,
   "metadata": {
    "collapsed": false
   },
   "outputs": [],
   "source": [
    "%pylab inline\n",
    "import numpy as np\n",
    "import scipy.stats as spstats\n",
    "import pandas as pd"
   ]
  },
  {
   "cell_type": "code",
   "execution_count": null,
   "metadata": {
    "collapsed": true
   },
   "outputs": [],
   "source": [
    "sample_dirs = [\n",
    "    \"archive/paper-2.0/nk_delete 1/2017-09-05 20:43:37 fc24cdf\",\n",
    "    \"archive/paper-2.0/nk_delete 2/2017-09-05 20:43:40 fc24cdf\",\n",
    "    \"archive/paper-2.0/nk_delete 3/2017-09-05 20:43:43 fc24cdf\",\n",
    "    \"archive/paper-2.0/nk_delete 4/2017-09-05 20:43:37 fc24cdf\",\n",
    "    \"archive/paper-2.0/nk_delete 5/2017-09-05 20:43:37 fc24cdf\",\n",
    "    \"archive/paper-2.0/nk_delete 6/2017-09-05 20:43:43 fc24cdf\"\n",
    "]\n",
    "nosample_dirs = [\n",
    "    \"archive/paper-2.0/nk_delete_nosample 1/2017-09-05 20:50:39 fc24cdf\",\n",
    "    \"archive/paper-2.0/nk_delete_nosample 2/2017-09-05 20:50:39 fc24cdf\",\n",
    "    \"archive/paper-2.0/nk_delete_nosample 3/2017-09-05 20:50:40 fc24cdf\",\n",
    "    \"archive/paper-2.0/nk_delete_nosample 4/2017-09-05 20:50:39 fc24cdf\",\n",
    "    \"archive/paper-2.0/nk_delete_nosample 5/2017-09-05 20:50:40 fc24cdf\",\n",
    "    \"archive/paper-2.0/nk_delete_nosample 6/2017-09-05 20:50:39 fc24cdf\",\n",
    "    \"archive/paper-2.0/nk_delete_nosample 7/2017-09-05 20:50:41 fc24cdf\",\n",
    "    \"archive/paper-2.0/nk_delete_nosample 8/2017-09-05 20:50:42 fc24cdf\",\n",
    "    \"archive/paper-2.0/nk_delete_nosample 9/2017-09-05 20:50:44 fc24cdf\",\n",
    "    \"archive/paper-2.0/nk_delete_nosample 10/2017-09-05 20:50:45 fc24cdf\"\n",
    "]\n",
    "all_dirs = sample_dirs + nosample_dirs"
   ]
  },
  {
   "cell_type": "code",
   "execution_count": null,
   "metadata": {
    "collapsed": true
   },
   "outputs": [],
   "source": [
    "df_sample_values = pd.concat([pd.DataFrame.from_csv(\"%s/values.csv\" % d) for d in sample_dirs])\n",
    "df_nosample_values = pd.concat([pd.DataFrame.from_csv(\"%s/values.csv\" % d) for d in nosample_dirs])\n",
    "df_sample_values[\"sample\"] = 3\n",
    "df_nosample_values[\"sample\"] = 0"
   ]
  },
  {
   "cell_type": "code",
   "execution_count": null,
   "metadata": {
    "collapsed": false
   },
   "outputs": [],
   "source": [
    "df_runs = pd.concat([pd.DataFrame.from_csv(\"%s/runs.csv\" % d) for d in all_dirs])\n",
    "df_values = pd.concat([df_sample_values, df_nosample_values])"
   ]
  },
  {
   "cell_type": "code",
   "execution_count": null,
   "metadata": {
    "collapsed": true
   },
   "outputs": [],
   "source": [
    "min_keep = min(set(df_runs[\"keep\"]))\n",
    "df_runs = df_runs[(df_runs[\"keep\"] == 1) | (df_runs[\"keep\"] == min_keep)]\n",
    "df_values = df_values[(df_values[\"keep\"] == 1) | (df_values[\"keep\"] == min_keep)]"
   ]
  },
  {
   "cell_type": "code",
   "execution_count": null,
   "metadata": {
    "collapsed": false
   },
   "outputs": [],
   "source": [
    "df_values[\"run_id\"] = df_values[\"timestamp\"].map(str) + \"-\" + df_values[\"jobid\"].map(str) + \"-\" + df_values[\"trial\"].map(str)"
   ]
  },
  {
   "cell_type": "code",
   "execution_count": null,
   "metadata": {
    "collapsed": true
   },
   "outputs": [],
   "source": [
    "def values_to_efficiency(values):\n",
    "    max_delta = [max(values) - values[i] for i in range(len(values))]\n",
    "    nonpositive = [i for i, d in enumerate(max_delta) if d <= 0.0001]\n",
    "    return 1.0 / float(nonpositive[0])\n",
    "\n",
    "def values_to_converge(values):\n",
    "    max_delta = [max(values) - values[i] for i in range(len(values))]\n",
    "    nonpositive = [i for i, d in enumerate(max_delta) if d <= 0.0001]\n",
    "    return nonpositive[0]    "
   ]
  },
  {
   "cell_type": "code",
   "execution_count": null,
   "metadata": {
    "collapsed": false
   },
   "outputs": [],
   "source": [
    "d_trial = []\n",
    "d_strat = []\n",
    "d_eff = []\n",
    "d_perf = []\n",
    "d_rewire = []\n",
    "d_degree = []\n",
    "d_converge = []\n",
    "d_keep = []\n",
    "d_sample = []\n",
    "for i, trial in enumerate(sorted(set(df_values[\"run_id\"]))):\n",
    "    for j, strategy in enumerate(sorted(set(df_values[\"strategy\"]))):\n",
    "        df_strat = df_values[df_values[\"strategy\"] == strategy]\n",
    "        df = df_strat[df_strat[\"run_id\"] == trial]\n",
    "        eff = values_to_efficiency(list(df[\"value\"]))\n",
    "        d_converge.append(values_to_converge(list(df[\"value\"])))\n",
    "        d_trial.append(trial)\n",
    "        d_strat.append(strategy)\n",
    "        d_eff.append(eff)\n",
    "        d_rewire.append(df_runs[\"rewire\"][trial])\n",
    "        d_degree.append(df_runs[\"degree\"][trial])\n",
    "        d_keep.append(df_runs[\"keep\"][trial])\n",
    "        d_perf.append(df_runs[\"%s_perf\" % strategy][trial])\n",
    "        d_sample.append(df_runs[\"sample\"][trial])\n",
    "df_eff = pd.DataFrame({\n",
    "    \"trial\": d_trial,\n",
    "    \"rewire\": d_rewire,\n",
    "    \"degree\": d_degree,\n",
    "    \"strategy\": d_strat,\n",
    "    \"eff\": d_eff,\n",
    "    \"perf\": d_perf,\n",
    "    \"converge\": d_converge,\n",
    "    \"keep\": d_keep,\n",
    "    \"sample\": d_sample\n",
    "})"
   ]
  },
  {
   "cell_type": "code",
   "execution_count": null,
   "metadata": {
    "collapsed": false
   },
   "outputs": [],
   "source": [
    "plt.figure(figsize=(3*15.0/6.0,2*15.0/6.0))\n",
    "for i, strategy in enumerate(sorted(set(df_eff[\"strategy\"]))):\n",
    "    plt.subplot(2,3, i+1)\n",
    "    plt.title(strategy)\n",
    "    df = df_eff[df_eff[\"strategy\"] == strategy]\n",
    "    plot(df[\"converge\"], df[\"perf\"], '.')\n",
    "    xlabel('Converge Time')\n",
    "    ylabel('Value')\n",
    "    xlim([0, 300])\n",
    "    ylim([0.7, 0.8])\n",
    "plt.tight_layout()\n",
    "plt.savefig(\"fig-converge-value.png\", format=\"png\", dpi=300)"
   ]
  },
  {
   "cell_type": "code",
   "execution_count": null,
   "metadata": {
    "collapsed": false,
    "scrolled": true
   },
   "outputs": [],
   "source": [
    "strategies = [\"loc_best\", \"loc_conform\", \"best\", \"conform\", \"loc_cons\"]\n",
    "fmt = [\".\", \"s\", \"d\", \"*\"]\n",
    "plt.figure(figsize=(3*15.0/6.0,len(strategies)*15.0/6.0))\n",
    "for strategy_i, strategy in enumerate(strategies):\n",
    "    df_strategy = df_eff[df_eff[\"strategy\"] == strategy]\n",
    "    plt.subplot(len(strategies),1,1+strategy_i)\n",
    "    plt.title(strategy)\n",
    "    x = [\"no-sample sparse\", \"no-sample full\", \"sample sparse\", \"sample full\"]\n",
    "    for sample_i, sample in enumerate([0, 3]):\n",
    "        df_sample = df_strategy[df_strategy[\"sample\"] == sample]\n",
    "        for keep_i, keep in enumerate([min(sorted(set(df_eff['keep']))), 1.0]):\n",
    "            df_keep = df_sample[df_sample[\"keep\"] == keep]\n",
    "            perf_m = df_keep[\"perf\"].mean()\n",
    "            perf_s = df_keep[\"perf\"].std(ddof=1)\n",
    "            perf_se = perf_s / math.sqrt(len(df_keep))\n",
    "            i = sample_i*2 + keep_i\n",
    "            plt.errorbar([i], [perf_m], yerr=perf_se, label=x[i], capsize=4, fmt=fmt[i], markersize=6)\n",
    "    plt.legend()\n",
    "    plt.xticks([0,1,2,3], [\"\", \"\", \"\", \"\"])\n",
    "    plt.ylabel(\"Performance\")\n",
    "    plt.xlim([-1,5])\n",
    "    plt.grid()\n",
    "plt.tight_layout()"
   ]
  },
  {
   "cell_type": "code",
   "execution_count": null,
   "metadata": {
    "collapsed": false
   },
   "outputs": [],
   "source": [
    "min(sorted(set(df_runs[\"sample\"])))"
   ]
  },
  {
   "cell_type": "code",
   "execution_count": null,
   "metadata": {
    "collapsed": false
   },
   "outputs": [],
   "source": [
    "df = df_eff[df_eff[\"strategy\"] == \"best\"]\n",
    "df = df[df[\"sample\"] == 3]\n",
    "y = []\n",
    "x = []\n",
    "se = []\n",
    "for keep in sorted(set(df[\"keep\"])):\n",
    "    d = df[df[\"keep\"] == keep]\n",
    "    x.append(keep)\n",
    "    y.append(d[\"perf\"].mean())\n",
    "    se.append(d[\"perf\"].std(ddof=1) / sqrt(len(d)))\n",
    "plt.errorbar(x, y, yerr=se)"
   ]
  },
  {
   "cell_type": "code",
   "execution_count": null,
   "metadata": {
    "collapsed": false
   },
   "outputs": [],
   "source": []
  },
  {
   "cell_type": "code",
   "execution_count": null,
   "metadata": {
    "collapsed": true
   },
   "outputs": [],
   "source": []
  }
 ],
 "metadata": {
  "kernelspec": {
   "display_name": "Python 2",
   "language": "python",
   "name": "python2"
  },
  "language_info": {
   "codemirror_mode": {
    "name": "ipython",
    "version": 2
   },
   "file_extension": ".py",
   "mimetype": "text/x-python",
   "name": "python",
   "nbconvert_exporter": "python",
   "pygments_lexer": "ipython2",
   "version": "2.7.6"
  }
 },
 "nbformat": 4,
 "nbformat_minor": 2
}
